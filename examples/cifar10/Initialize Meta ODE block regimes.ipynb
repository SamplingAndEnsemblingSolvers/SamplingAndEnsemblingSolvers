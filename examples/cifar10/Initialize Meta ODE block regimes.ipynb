{
 "cells": [
  {
   "cell_type": "markdown",
   "metadata": {},
   "source": [
    "In this notebook we show how to perform the forward pass through the Neural ODE using different regimes to propagate through the Meta ODE block, namely\n",
    "- Standalone\n",
    "- Solver sampling (switching/smoothing)\n",
    "- Solver ensembling\n",
    "- Model ensembling\n",
    "\n",
    "In more details, usage of different regimes means\n",
    "- **Standalone**\n",
    "    - One solver is used during  inference\n",
    "    - Applied during training/testing.\n",
    "     \n",
    "    \n",
    "    \n",
    "- **Solver switching / smoothing**\n",
    "    - For each batch one solver is chosen from a group of solvers with finite (in switching regime) or infinite (in smoothing regime) number of members.\n",
    "    - Applied during training.\n",
    "    \n",
    "    \n",
    "- **Solver ensembling**\n",
    "    - Several solvers are used durung inference.\n",
    "    - Outputs of ODE Block (obtained with different solvers) are averaged before propagating through the next layer.\n",
    "    - Applied during training/testing\n",
    "    \n",
    "    \n",
    "- **Model ensembling**\n",
    "    - Several solvers are used durung inference.\n",
    "    - Model probabilites obtained via propagation with different solvers are averaged to get the final result.\n",
    "    - Applied during training/testing\n",
    "    "
   ]
  },
  {
   "cell_type": "code",
   "execution_count": 1,
   "metadata": {},
   "outputs": [],
   "source": [
    "import os\n",
    "os.environ['CUDA_DEVICE_ORDER']=\"PCI_BUS_ID\"\n",
    "os.environ['CUDA_VISIBLE_DEVICE']=\"0\""
   ]
  },
  {
   "cell_type": "code",
   "execution_count": 2,
   "metadata": {},
   "outputs": [],
   "source": [
    "from argparse import Namespace\n",
    "import torch\n",
    "import torchvision.transforms as transforms\n",
    "import numpy as np\n",
    "import itertools\n",
    "import wandb\n",
    "\n",
    "import sys\n",
    "\n",
    "sys.path.append('../../')\n",
    "import sopa.src.models.odenet_cifar10.layers as cifar10_models\n",
    "from sopa.src.models.odenet_cifar10.utils import *\n",
    "from sopa.src.models.odenet_cifar10.data import get_cifar10_test_loader\n",
    "from sopa.src.models.utils import fix_seeds\n",
    "from sopa.src.solvers.utils import create_solver, noise_params, create_solver_ensemble_by_noising_params"
   ]
  },
  {
   "cell_type": "markdown",
   "metadata": {},
   "source": [
    "# Build a model"
   ]
  },
  {
   "cell_type": "code",
   "execution_count": 3,
   "metadata": {},
   "outputs": [
    {
     "name": "stdout",
     "output_type": "stream",
     "text": [
      "Solvers used during training: [['rk2', 'u', 8, -1.0, 0.5, -1]]\n"
     ]
    }
   ],
   "source": [
    "# Load a checkpoint\n",
    "\n",
    "# checkpoint_name = './checkpoints/fgsm_random_8_255_seed_102_checkpoint_6125.pth'\n",
    "checkpoint_name = \"./checkpoints/fgsm_random_8_255_smoothing_00125_seed_102_checkpoint_6125.pth\"\n",
    "checkpoint=torch.load(checkpoint_name)\n",
    "config = Namespace(**checkpoint['wandb_config'])\n",
    "\n",
    "print(f'Solvers used during training: {config.solvers}')"
   ]
  },
  {
   "cell_type": "code",
   "execution_count": 4,
   "metadata": {},
   "outputs": [
    {
     "data": {
      "text/plain": [
       "MetaNODE(\n",
       "  (conv1): Conv2d(3, 64, kernel_size=(3, 3), stride=(1, 1), padding=(1, 1), bias=False)\n",
       "  (bn1): Identity()\n",
       "  (layer1): MetaLayer(\n",
       "    (blocks_res): Sequential(\n",
       "      (0): PreBasicBlock(\n",
       "        (bn1): Identity()\n",
       "        (conv1): Conv2d(64, 64, kernel_size=(3, 3), stride=(1, 1), padding=(1, 1), bias=False)\n",
       "        (bn2): Identity()\n",
       "        (conv2): Conv2d(64, 64, kernel_size=(3, 3), stride=(1, 1), padding=(1, 1), bias=False)\n",
       "        (shortcut): Sequential()\n",
       "      )\n",
       "    )\n",
       "    (blocks_ode): ModuleList(\n",
       "      (0): MetaODEBlock(\n",
       "        (rhs_func): PreBasicBlock2(\n",
       "          (bn1): Identity()\n",
       "          (conv1): Conv2d(64, 64, kernel_size=(3, 3), stride=(1, 1), padding=(1, 1), bias=False)\n",
       "          (bn2): Identity()\n",
       "          (conv2): Conv2d(64, 64, kernel_size=(3, 3), stride=(1, 1), padding=(1, 1), bias=False)\n",
       "          (shortcut): Sequential()\n",
       "        )\n",
       "      )\n",
       "    )\n",
       "  )\n",
       "  (layer2): MetaLayer(\n",
       "    (blocks_res): Sequential(\n",
       "      (0): PreBasicBlock(\n",
       "        (bn1): Identity()\n",
       "        (conv1): Conv2d(64, 128, kernel_size=(3, 3), stride=(2, 2), padding=(1, 1), bias=False)\n",
       "        (bn2): Identity()\n",
       "        (conv2): Conv2d(128, 128, kernel_size=(3, 3), stride=(1, 1), padding=(1, 1), bias=False)\n",
       "        (shortcut): Sequential(\n",
       "          (0): Conv2d(64, 128, kernel_size=(1, 1), stride=(2, 2), bias=False)\n",
       "        )\n",
       "      )\n",
       "    )\n",
       "    (blocks_ode): ModuleList(\n",
       "      (0): MetaODEBlock(\n",
       "        (rhs_func): PreBasicBlock2(\n",
       "          (bn1): Identity()\n",
       "          (conv1): Conv2d(128, 128, kernel_size=(3, 3), stride=(1, 1), padding=(1, 1), bias=False)\n",
       "          (bn2): Identity()\n",
       "          (conv2): Conv2d(128, 128, kernel_size=(3, 3), stride=(1, 1), padding=(1, 1), bias=False)\n",
       "          (shortcut): Sequential()\n",
       "        )\n",
       "      )\n",
       "    )\n",
       "  )\n",
       "  (fc_layers): Sequential(\n",
       "    (0): AdaptiveAvgPool2d(output_size=(1, 1))\n",
       "    (1): Flatten()\n",
       "    (2): Linear(in_features=128, out_features=10, bias=True)\n",
       "  )\n",
       ")"
      ]
     },
     "execution_count": 4,
     "metadata": {},
     "output_type": "execute_result"
    }
   ],
   "source": [
    "# Initialize Neural ODE model\n",
    "from black_box import init_model_metanode\n",
    "\n",
    "model = init_model_metanode(checkpoint)\n",
    "model"
   ]
  },
  {
   "cell_type": "markdown",
   "metadata": {},
   "source": [
    "# Build a data loader"
   ]
  },
  {
   "cell_type": "code",
   "execution_count": 5,
   "metadata": {},
   "outputs": [
    {
     "name": "stdout",
     "output_type": "stream",
     "text": [
      "Files already downloaded and verified\n"
     ]
    },
    {
     "data": {
      "text/plain": [
       "312"
      ]
     },
     "execution_count": 5,
     "metadata": {},
     "output_type": "execute_result"
    }
   ],
   "source": [
    "data_root=\"./data\"\n",
    "test_loader = get_cifar10_test_loader(batch_size=32,\n",
    "                                      data_root=data_root,\n",
    "                                      num_workers=1,\n",
    "                                      pin_memory=False,\n",
    "                                      shuffle=False,\n",
    "                                      download=True)\n",
    "len(test_loader)"
   ]
  },
  {
   "cell_type": "markdown",
   "metadata": {},
   "source": [
    "# Evaluate the model"
   ]
  },
  {
   "cell_type": "code",
   "execution_count": 6,
   "metadata": {},
   "outputs": [],
   "source": [
    "def one_hot(x, K):\n",
    "    return np.array(x[:, None] == np.arange(K)[None, :], dtype=int)\n",
    "\n",
    "def accuracy(model,\n",
    "             dataset_loader,\n",
    "             device, solvers=None,\n",
    "             solver_options=None,\n",
    "             data_noise_std=None,\n",
    "             solver_noise_params=Namespace(**{'noise_type': None,\n",
    "                                              'noise_sigma': 0.0125,\n",
    "                                              'noise_prob': 0.9})\n",
    "            ):\n",
    "    model.eval()\n",
    "    model.to(device)\n",
    "    total_correct = 0\n",
    "\n",
    "    for x, y in dataset_loader:\n",
    "        x = x.to(device)\n",
    "        y = one_hot(np.array(y.numpy()), 10)\n",
    "        target_class = np.argmax(y, axis=1)\n",
    "        \n",
    "        ### Noise base solver parameters\n",
    "        if solver_noise_params.noise_type is not None:\n",
    "            for i in range(len(solvers)):\n",
    "                solvers[i].u, solvers[i].v = noise_params(solvers[i].u0,\n",
    "                                                          solvers[i].v0,\n",
    "                                                          std=solver_noise_params.noise_sigma,\n",
    "                                                          bernoulli_p=solver_noise_params.noise_prob,\n",
    "                                                          noise_type=solver_noise_params.noise_type)\n",
    "                solvers[i].build_ButcherTableau()\n",
    "\n",
    "        with torch.no_grad():\n",
    "            # Add noise to the input data:\n",
    "            if (data_noise_std is not None) and (data_noise_std > 1e-12):\n",
    "                x = x + data_noise_std * torch.randn_like(x)\n",
    "                \n",
    "            if solvers is not None:\n",
    "                out = model(x, solvers, solver_options).cpu().detach().numpy()\n",
    "            else:\n",
    "                out = model(x).cpu().detach().numpy()\n",
    "            predicted_class = np.argmax(out, axis=1)\n",
    "            total_correct += np.sum(predicted_class == target_class)\n",
    "            \n",
    "        ### Denoise best solver parameters\n",
    "        if solver_noise_params.noise_type is not None:\n",
    "            for i in range(len(solvers)):\n",
    "                solvers[i].u, solvers[i].v = solvers[i].u0, solvers[i].v0\n",
    "                solvers[i].build_ButcherTableau()\n",
    "\n",
    "    total = len(dataset_loader) * dataset_loader.batch_size\n",
    "    torch.cuda.empty_cache()\n",
    "    return total_correct / total"
   ]
  },
  {
   "cell_type": "markdown",
   "metadata": {},
   "source": [
    "# Standalone \n",
    "- Use one solver during  inference\n",
    "\n",
    "\n",
    "### How to define solver configuration\n",
    "\n",
    "- Each solver is represented with *(method, parameterization, n_steps, step_size, u0, v0)*.\n",
    "\n",
    "- If the solver has only one parameter *u0*, set *v0* to *-1*.\n",
    "\n",
    "- *n_steps* and *step_size* are exclusive parameters, only one of them can be != -1.\n",
    "\n",
    "- If *n_steps = step_size = -1*, automatic time grid_constructor is used.\n",
    "\n",
    "For example, \n",
    "\n",
    "`--solvers 'rk2,u,8,-1,0.5,-1' ` defines 8-step 2-nd order Runge-Kutta method with Butcher tableau computed using *u=0.5*.\n",
    "\n",
    "`--solver_mode 'standalone'` specifies that we propagate through Meta ODE block using *standalone* regime (i.e., one pre-defined solver)."
   ]
  },
  {
   "cell_type": "code",
   "execution_count": 7,
   "metadata": {},
   "outputs": [],
   "source": [
    "device='cuda'\n",
    "dtype=torch.float32\n",
    "\n",
    "# Create a solver\n",
    "val_solvers = [create_solver(method='rk2',\n",
    "                             parameterization='u',\n",
    "                             n_steps=8,\n",
    "                             step_size=-1,\n",
    "                             u0=0.5,\n",
    "                             v0=-1,\n",
    "                             dtype=dtype,\n",
    "                             device=device)]\n",
    "# Freeze solver params\n",
    "for solver in val_solvers:\n",
    "    solver.freeze_params()\n",
    "\n",
    "val_solver_options = Namespace(**{'solver_mode': 'standalone'})"
   ]
  },
  {
   "cell_type": "code",
   "execution_count": 8,
   "metadata": {},
   "outputs": [
    {
     "data": {
      "text/plain": [
       "0.8283253205128205"
      ]
     },
     "execution_count": 8,
     "metadata": {},
     "output_type": "execute_result"
    }
   ],
   "source": [
    "# Compute standard accuracy\n",
    "accuracy_test = accuracy(model, test_loader, device=device,\n",
    "                         solvers=val_solvers,\n",
    "                         solver_options=val_solver_options)\n",
    "accuracy_test"
   ]
  },
  {
   "cell_type": "markdown",
   "metadata": {},
   "source": [
    "# Solver smoothing\n",
    "\n",
    "For each batch one solver is chosen from a group of solvers with infinite number of members.\n",
    "\n",
    "We initialize a base solver and probibility distribution of noise, which is added to the base solver parameters before propagating through the batch. We can also specify a probability of applying noising procedure. \n",
    "\n",
    "For example, \n",
    "\n",
    "`--solvers 'rk2,u,8,-1,0.5,-1' --solver_mode 'standalone'`  means we use 8-step 2-nd order Runge-Kutta method (with Butcher tableau computed using *u=0.5*) as a base solver.\n",
    "\n",
    "`--noise_type 'normal' --noise_sigma 0.0125 --noise_prob 0.9` means that for each batch  we sample RK2 solver parameter from  *N(0.5, 0.0125)* with probability 0.9, and use a base solver (RK2 with *u=0.5*) with probability 0.1."
   ]
  },
  {
   "cell_type": "code",
   "execution_count": 9,
   "metadata": {},
   "outputs": [
    {
     "data": {
      "text/plain": [
       "0.8283253205128205"
      ]
     },
     "execution_count": 9,
     "metadata": {},
     "output_type": "execute_result"
    }
   ],
   "source": [
    "# Compute standard accuracy\n",
    "accuracy_test = accuracy(model, test_loader, device=device,\n",
    "                         solvers=val_solvers,\n",
    "                         solver_options=val_solver_options,\n",
    "                         solver_noise_params=Namespace(**{'noise_type': 'normal',\n",
    "                                              'noise_sigma': 0.0125,\n",
    "                                              'noise_prob': .9}))\n",
    "\n",
    "accuracy_test"
   ]
  },
  {
   "cell_type": "markdown",
   "metadata": {},
   "source": [
    "# Solver switching\n",
    "For each batch one solver is chosen from a group of solvers with finite  number of members.\n",
    "\n",
    "For example, \n",
    "\n",
    "`--solvers 'rk2,u,8,-1,0.5,-1;rk4,uv,8,-1,0.3,0.6' ` defines two solvers: 8-step 2-nd order Runge-Kutta method with Butcher tableau computed using *u=0.5*, and 8-step 4-th order Runge-Kutta method with Butcher tableau computed using *u=0.3, v=0.6*.\n",
    "\n",
    "`--solver_mode 'switch'` specifies that we propagate through Meta ODE block using  *switching* regime (i.e., *sampling* regime with finite number of solvers). \n",
    "\n",
    "`--switch_probs '0.6,0.4'` means that we  choose first solver with probability *0.6*, and second solver with probability *0.4* to propagate through the Meta ODE block."
   ]
  },
  {
   "cell_type": "code",
   "execution_count": 10,
   "metadata": {},
   "outputs": [],
   "source": [
    "device='cuda'\n",
    "dtype=torch.float32\n",
    "val_solvers = [create_solver(method='rk2', parameterization='u', n_steps=8, step_size=-1, u0=0.5, v0=-1,\n",
    "                             dtype=dtype, device=device),\n",
    "              create_solver(method='rk4', parameterization='uv', n_steps=8, step_size=-1, u0=0.3, v0=0.6,\n",
    "                             dtype=dtype, device=device),]\n",
    "for solver in val_solvers:\n",
    "    solver.freeze_params()\n",
    "    \n",
    "val_solver_options = Namespace(**{'solver_mode': 'switch', 'switch_probs': [0.6, 0.4]})"
   ]
  },
  {
   "cell_type": "code",
   "execution_count": 11,
   "metadata": {},
   "outputs": [
    {
     "data": {
      "text/plain": [
       "0.8286258012820513"
      ]
     },
     "execution_count": 11,
     "metadata": {},
     "output_type": "execute_result"
    }
   ],
   "source": [
    "accuracy_test = accuracy(model, test_loader, device=device,\n",
    "                         solvers=val_solvers, solver_options=val_solver_options)\n",
    "accuracy_test"
   ]
  },
  {
   "cell_type": "markdown",
   "metadata": {},
   "source": [
    "# Solver ensembling\n",
    "- Use several solvers durung inference.\n",
    "\n",
    "- Outputs of ODE Block (obtained with different solvers) are averaged before propagating through the next layer.\n",
    "\n",
    "`--solvers 'rk2,u,8,-1,0.5,-1;rk4,uv,8,-1,0.3,0.6' ` defines two solvers: 8-step 2-nd order Runge-Kutta method with Butcher tableau computed using *u=0.5*, and 8-step 4-th order Runge-Kutta method with Butcher tableau computed using *u=0.3, v=0.6*.\n",
    "\n",
    "`--solver_mode 'ensemble'` specifies that we propagate through Meta ODE block using *ensembling* regime. \n",
    "\n",
    "`--ensemble_weights '0.6,0.4'` means that we  propagate through the Meta ODE block using two solvers, and we average theirs outputs with weights *0.6* and *0.4* before passing to the next model's block.\n",
    "\n",
    "`--ensemble_prob 1.` means that for each batch we use ensembling regime for Meta ODE block with propability 1."
   ]
  },
  {
   "cell_type": "code",
   "execution_count": 12,
   "metadata": {},
   "outputs": [],
   "source": [
    "val_solvers = [create_solver(method='rk2', parameterization='u', n_steps=8, step_size=-1, u0=0.5, v0=-1,\n",
    "                             dtype=dtype, device=device),\n",
    "              create_solver(method='rk4', parameterization='uv', n_steps=8, step_size=-1, u0=0.3, v0=0.6,\n",
    "                             dtype=dtype, device=device)]\n",
    "for solver in val_solvers:\n",
    "    solver.freeze_params()\n",
    "    \n",
    "val_solver_options = Namespace(**{'solver_mode': 'ensemble',\n",
    "                                  'ensemble_prob':1, 'ensemble_weights': [0.6, 0.4]})"
   ]
  },
  {
   "cell_type": "code",
   "execution_count": 13,
   "metadata": {},
   "outputs": [
    {
     "data": {
      "text/plain": [
       "0.828125"
      ]
     },
     "execution_count": 13,
     "metadata": {},
     "output_type": "execute_result"
    }
   ],
   "source": [
    "accuracy_test = accuracy(model, test_loader, device=device,\n",
    "                         solvers=val_solvers, solver_options=val_solver_options)\n",
    "accuracy_test"
   ]
  },
  {
   "cell_type": "markdown",
   "metadata": {},
   "source": [
    "# Model Ensembling\n",
    "- Use several solvers durung inference.\n",
    "\n",
    "- Model probabilites obtained via propagation with different solvers are averaged to get the final result."
   ]
  },
  {
   "cell_type": "code",
   "execution_count": 17,
   "metadata": {},
   "outputs": [],
   "source": [
    "def accuracy_ensemble(models, dataset_loader, device, solvers_solver_options_arr=None, data_noise_std=None):\n",
    "    for model in models:\n",
    "        model.eval()\n",
    "    total_correct = 0\n",
    "\n",
    "    for x, y in dataset_loader:\n",
    "        x = x.to(device)\n",
    "        y = one_hot(np.array(y.numpy()), 10)\n",
    "        target_class = np.argmax(y, axis=1)\n",
    "\n",
    "        with torch.no_grad():\n",
    "            # Add noise to the input:\n",
    "            if (data_noise_std is not None) and (data_noise_std > 1e-12):\n",
    "                x = x + data_noise_std * torch.randn_like(x)\n",
    "\n",
    "            probs_ensemble = 0\n",
    "\n",
    "            if solvers_solver_options_arr is not None:\n",
    "                for n, (model, solvers_solver_options) in enumerate(\n",
    "                        itertools.zip_longest(models, solvers_solver_options_arr, fillvalue=models[0])):\n",
    "                    logits = model(x, **solvers_solver_options)\n",
    "                    probs = nn.Softmax(dim=1)(logits).cpu().detach().numpy()\n",
    "                    probs_ensemble = probs_ensemble + probs\n",
    "\n",
    "            else:\n",
    "                for n, model in enumerate(models):\n",
    "                    logits = model(x)\n",
    "                    probs = nn.Softmax()(logits).cpu().detach().numpy()\n",
    "                    probs_ensemble = probs_ensemble + probs\n",
    "\n",
    "            probs_ensemble /= (n + 1)\n",
    "\n",
    "            predicted_class = np.argmax(probs_ensemble, axis=1)\n",
    "            total_correct += np.sum(predicted_class == target_class)\n",
    "\n",
    "    total = len(dataset_loader) * dataset_loader.batch_size\n",
    "    return total_correct / total"
   ]
  },
  {
   "cell_type": "code",
   "execution_count": 15,
   "metadata": {},
   "outputs": [
    {
     "name": "stdout",
     "output_type": "stream",
     "text": [
      "tensor([0.5217], device='cuda:0') None\n"
     ]
    }
   ],
   "source": [
    "val_solvers = [create_solver(method='rk2',\n",
    "                             parameterization='u',\n",
    "                             n_steps=8,\n",
    "                             step_size=-1,\n",
    "                             u0=0.5,\n",
    "                             v0=-1,\n",
    "                             dtype=dtype,\n",
    "                             device=device)]\n",
    "for solver in val_solvers:\n",
    "    solver.freeze_params()\n",
    "\n",
    "val_solver_options = Namespace(**{'solver_mode': 'standalone'})\n",
    "\n",
    "ensemble_size = 2\n",
    "solver_ensemble = create_solver_ensemble_by_noising_params(val_solvers[0],\n",
    "                                                           ensemble_size=ensemble_size,\n",
    "                                                           kwargs_noise={'std': 0.0125,\n",
    "                                                                         'bernoulli_p': 1.,\n",
    "                                                                         'noise_type': 'normal'})\n",
    "\n",
    "solvers_solver_options_arr = [{'solvers': [solver], 'solver_options': val_solver_options}\n",
    "                              for solver in solver_ensemble]"
   ]
  },
  {
   "cell_type": "code",
   "execution_count": 16,
   "metadata": {},
   "outputs": [
    {
     "data": {
      "text/plain": [
       "0.8283253205128205"
      ]
     },
     "execution_count": 16,
     "metadata": {},
     "output_type": "execute_result"
    }
   ],
   "source": [
    "accuracy_test = accuracy_ensemble([model], test_loader, device=device,\n",
    "                                  solvers_solver_options_arr=solvers_solver_options_arr,)\n",
    "accuracy_test"
   ]
  },
  {
   "cell_type": "code",
   "execution_count": null,
   "metadata": {},
   "outputs": [],
   "source": []
  }
 ],
 "metadata": {
  "kernelspec": {
   "display_name": "Python 3",
   "language": "python",
   "name": "python3"
  },
  "language_info": {
   "codemirror_mode": {
    "name": "ipython",
    "version": 3
   },
   "file_extension": ".py",
   "mimetype": "text/x-python",
   "name": "python",
   "nbconvert_exporter": "python",
   "pygments_lexer": "ipython3",
   "version": "3.7.7"
  }
 },
 "nbformat": 4,
 "nbformat_minor": 2
}
