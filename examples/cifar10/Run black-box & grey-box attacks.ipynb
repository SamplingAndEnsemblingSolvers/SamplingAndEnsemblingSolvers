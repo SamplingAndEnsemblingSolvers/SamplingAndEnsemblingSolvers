{
 "cells": [
  {
   "cell_type": "code",
   "execution_count": 1,
   "metadata": {},
   "outputs": [],
   "source": [
    "import os\n",
    "os.environ['CUDA_DEVICE_ORDER']=\"PCI_BUS_ID\"\n",
    "os.environ['CUDA_VISIBLE_DEVICE']=\"0\""
   ]
  },
  {
   "cell_type": "code",
   "execution_count": 2,
   "metadata": {},
   "outputs": [],
   "source": [
    "import argparse \n",
    "from argparse import Namespace\n",
    "import torch\n",
    "import torchvision.transforms as transforms\n",
    "import numpy as np\n",
    "import itertools\n",
    "import wandb\n",
    "\n",
    "import sys\n",
    "\n",
    "sys.path.append('../../')\n",
    "import sopa.src.models.odenet_cifar10.layers as cifar10_models\n",
    "from sopa.src.models.odenet_cifar10.utils import *\n",
    "from sopa.src.models.odenet_cifar10.data import get_cifar10_test_loader\n",
    "from sopa.src.solvers.utils import create_solver, noise_params, create_solver_ensemble_by_noising_params\n",
    "\n",
    "import robustbench as rb \n",
    "import eagerpy as ep\n",
    "import foolbox as fb\n",
    "import MegaAdversarial.src.attacks as ma"
   ]
  },
  {
   "cell_type": "code",
   "execution_count": 3,
   "metadata": {},
   "outputs": [
    {
     "name": "stdout",
     "output_type": "stream",
     "text": [
      "Files already downloaded and verified\n"
     ]
    },
    {
     "data": {
      "text/plain": [
       "312"
      ]
     },
     "execution_count": 3,
     "metadata": {},
     "output_type": "execute_result"
    }
   ],
   "source": [
    "data_root=\"./data\"\n",
    "test_loader = get_cifar10_test_loader(batch_size=32,\n",
    "                                      data_root=data_root,\n",
    "                                      num_workers=1,\n",
    "                                      pin_memory=False,\n",
    "                                      shuffle=False,\n",
    "                                      download=True)\n",
    "len(test_loader)"
   ]
  },
  {
   "cell_type": "markdown",
   "metadata": {},
   "source": [
    "# Source/target notation\n",
    "\n",
    "We add prefix **'source'** to all model/solver options, if the **model/solver is used to generate adversarial images**.\n",
    "\n",
    "We add prefix **'target'** to all model/solver options, if the **model/solver is used for the standard/robust accuracy evaluation**.\n",
    "\n",
    "For example, when\n",
    "- neural ODE attacks neural ODE: `source_model = target_model = 'premetanode10'`\n",
    "- 'Wong2020Fast' from RobustBench attacks neural ODE: `source_model = 'Wong2020Fast', target_model = 'premetanode10'`\n",
    "\n",
    "\n",
    "# Image preprocessing\n",
    "\n",
    "We define three types of **image normalization**:\n",
    "\n",
    "- `data_inv_normalize`: image normalization that converts data loader image range to [0, 1]\n",
    "\n",
    "- `source_preprocessing `: image normalization that converts the image range from [0, 1] to the range of the source model's input.\n",
    "\n",
    "- `target_normalize`: image normalization that converts the image range from [0, 1] to the range of the target model's input."
   ]
  },
  {
   "cell_type": "code",
   "execution_count": 21,
   "metadata": {},
   "outputs": [],
   "source": [
    "# Image normalization used by CIFAR10 data loader\n",
    "cifar10_mean, cifar10_std = (0.4914, 0.4822, 0.4465), (0.2023, 0.1994, 0.2010)\n",
    "\n",
    "ROBUSTBENCH_NAMES = ['Wong2020Fast', 'Sehwag2021Proxy_R18', 'Carmon2019Unlabeled']\n",
    "\n",
    "def get_input_shift_scale(model_name):\n",
    "    input_shift = (0., 0., 0.) if model_name in ROBUSTBENCH_NAMES else cifar10_mean\n",
    "    input_scale = (1., 1., 1.) if model_name in ROBUSTBENCH_NAMES else cifar10_std\n",
    "    return input_shift, input_scale"
   ]
  },
  {
   "cell_type": "markdown",
   "metadata": {},
   "source": [
    "#####  Define inverse transformation for images from CIFAR10 data loader: converts images to [0, 1] range."
   ]
  },
  {
   "cell_type": "code",
   "execution_count": 6,
   "metadata": {},
   "outputs": [],
   "source": [
    "dataset_shift = cifar10_mean if cifar10_mean is not None else (0., 0., 0.)\n",
    "dataset_scale = cifar10_std if cifar10_std is not None else (1., 1., 1.)\n",
    "\n",
    "data_inv_normalize = transforms.Normalize(mean=[-m/s for m, s in zip(dataset_shift, dataset_scale)],\n",
    "                                          std=[1/s for s in dataset_scale])"
   ]
  },
  {
   "cell_type": "markdown",
   "metadata": {},
   "source": [
    "# Example: CNN from RobustBench attacks neural ODE "
   ]
  },
  {
   "cell_type": "markdown",
   "metadata": {},
   "source": [
    "##### Get shifting and scaling factors that transform images from [0, 1] range to the range of source/target model inputs (i.e. inputs to the forward pass)."
   ]
  },
  {
   "cell_type": "code",
   "execution_count": 7,
   "metadata": {},
   "outputs": [],
   "source": [
    "source_name, target_name = 'Wong2020Fast', 'premetanode10' \n",
    "\n",
    "source_input_shift, source_input_scale = get_input_shift_scale(source_name)\n",
    "target_input_shift, target_input_scale = get_input_shift_scale(target_name)"
   ]
  },
  {
   "cell_type": "markdown",
   "metadata": {},
   "source": [
    "##### Define preprocessing for FoolBox attack generator: converts images from [0, 1] range to the range of source model's inputs."
   ]
  },
  {
   "cell_type": "code",
   "execution_count": 8,
   "metadata": {},
   "outputs": [],
   "source": [
    "source_preprocessing = dict(mean=source_input_shift, std=source_input_scale, axis=-3)"
   ]
  },
  {
   "cell_type": "markdown",
   "metadata": {},
   "source": [
    "##### Define image transformation before validation: converts images from [0, 1] range to the range of target model's inputs."
   ]
  },
  {
   "cell_type": "code",
   "execution_count": 9,
   "metadata": {},
   "outputs": [],
   "source": [
    "target_normalize = transforms.Normalize(mean=target_input_shift, std=target_input_scale)"
   ]
  },
  {
   "cell_type": "markdown",
   "metadata": {},
   "source": [
    "## Solver/model configs"
   ]
  },
  {
   "cell_type": "code",
   "execution_count": 10,
   "metadata": {},
   "outputs": [],
   "source": [
    "from black_box import get_solvers_solver_options_arr\n",
    "\n",
    "dtype = torch.float32\n",
    "device = 'cuda'\n",
    "\n",
    "source_solvers_config =  Namespace(**{'solvers': None,\n",
    "                                     'solver_mode': None,\n",
    "                                     'switch_probs': None,\n",
    "                                     'ensemble_prob': None,\n",
    "                                     'ensemble_weights': None,\n",
    "                                    })\n",
    "source_model_ensemble_config = Namespace(**{'model_ensemble_size': 1,\n",
    "                                            'average_mode': None,})\n",
    "\n",
    "\n",
    "\n",
    "target_solvers_config = Namespace(**{'solvers': \"rk2,u,8,-1,0.5,-1\",\n",
    "                                     'solver_mode': 'standalone',\n",
    "                                     'switch_probs': None,\n",
    "                                     'ensemble_prob': None,\n",
    "                                     'ensemble_weights': None,\n",
    "                                    })\n",
    "target_model_ensemble_config = Namespace(**{'model_ensemble_size': 1,})"
   ]
  },
  {
   "cell_type": "markdown",
   "metadata": {},
   "source": [
    "##### Load models"
   ]
  },
  {
   "cell_type": "code",
   "execution_count": 11,
   "metadata": {},
   "outputs": [
    {
     "name": "stdout",
     "output_type": "stream",
     "text": [
      "\n"
     ]
    }
   ],
   "source": [
    "from black_box import init_model_metanode\n",
    "\n",
    "source_model = rb.utils.load_model(model_name=source_name,\n",
    "                                   threat_model='Linf',\n",
    "                                   model_dir=\"./checkpoints_robustbench\").eval()\n",
    "source_model.to(device)\n",
    "\n",
    "\n",
    "\n",
    "checkpoint_name = \"./checkpoints/fgsm_random_8_255_smoothing_00125_seed_102_checkpoint_6125.pth\"\n",
    "checkpoint=torch.load(checkpoint_name)\n",
    "\n",
    "target_model = init_model_metanode(checkpoint).eval()\n",
    "target_model.to(device)\n",
    "print()"
   ]
  },
  {
   "cell_type": "markdown",
   "metadata": {},
   "source": [
    "##### Initialize source/target solvers"
   ]
  },
  {
   "cell_type": "code",
   "execution_count": 12,
   "metadata": {},
   "outputs": [
    {
     "name": "stdout",
     "output_type": "stream",
     "text": [
      "Solvers for source model: {} \n",
      "Solvers for target model: [{'solvers': [<sopa.src.solvers.rk_parametric_order2stage2.RKOrder2Stage2 object at 0x1554c323ab10>], 'solver_options': Namespace(ensemble_prob=None, ensemble_weights=None, solver_mode='standalone', switch_probs=None)}]\n"
     ]
    }
   ],
   "source": [
    "source_solvers_solver_options_arr = get_solvers_solver_options_arr(source_solvers_config,\n",
    "                                                                   source_model_ensemble_config,\n",
    "                                                                   dtype, device)\n",
    "target_solvers_solver_options_arr = get_solvers_solver_options_arr(target_solvers_config,\n",
    "                                                                   target_model_ensemble_config,\n",
    "                                                                   dtype, device)\n",
    "\n",
    "print(f'Solvers for source model: {source_solvers_solver_options_arr} \\n' +\n",
    "      f'Solvers for target model: {target_solvers_solver_options_arr}')"
   ]
  },
  {
   "cell_type": "markdown",
   "metadata": {},
   "source": [
    "## Attack and evaluate"
   ]
  },
  {
   "cell_type": "code",
   "execution_count": 13,
   "metadata": {},
   "outputs": [],
   "source": [
    "# FGSM attack\n",
    "attack = fb.attacks.FGSM(random_start=False)\n",
    "\n",
    "## PGD attack\n",
    "# attack = fb.attacks.LinfPGD(steps=20,\n",
    "#                             random_start=False,\n",
    "#                             abs_stepsize=2/255.)\n",
    "\n",
    "## DeepFool attack\n",
    "# attack = fb.attacks.LinfDeepFoolAttack()\n",
    "\n",
    "epsilons = [8/255.]\n",
    "\n",
    "source_fmodel = fb.PyTorchModel(source_model, bounds=(0, 1), device=device, preprocessing=source_preprocessing)"
   ]
  },
  {
   "cell_type": "code",
   "execution_count": 14,
   "metadata": {},
   "outputs": [
    {
     "name": "stderr",
     "output_type": "stream",
     "text": [
      "/beegfs/home/y.gusak/neural-ode-sopa/examples/cifar10/black_box.py:371: UserWarning: The given NumPy array is not writeable, and PyTorch does not support non-writeable tensors. This means you can write to the underlying (supposedly non-writeable) NumPy array using the tensor. You may want to copy the array to protect its data or make it writeable before converting it to a tensor. This type of warning will be suppressed for the rest of this program. (Triggered internally at  /pytorch/torch/csrc/utils/tensor_numpy.cpp:141.)\n",
      "  x = torch.tensor(clipped_advs[i].numpy()).to(device)\n"
     ]
    },
    {
     "name": "stdout",
     "output_type": "stream",
     "text": [
      "eps: 8, robust_accuracy: 0.585036039352417\n"
     ]
    }
   ],
   "source": [
    "from black_box import attack_validate\n",
    "\n",
    "robust_accuracies = attack_validate(attack,\n",
    "                                    epsilons,\n",
    "                                    test_loader,\n",
    "                                    source_model_ensemble_config,\n",
    "                                    source_solvers_solver_options_arr,\n",
    "                                    target_solvers_solver_options_arr,\n",
    "                                    source_model=source_model,\n",
    "                                    source_fmodel=source_fmodel,\n",
    "                                    target_model=target_model,\n",
    "                                    data_inv_normalize=data_inv_normalize,\n",
    "                                    target_normalize=target_normalize,\n",
    "                                    )\n",
    "\n",
    "for eps, acc in zip(epsilons, robust_accuracies):\n",
    "    print(f'eps: {int(eps*255)}, robust_accuracy: {acc}')"
   ]
  },
  {
   "cell_type": "code",
   "execution_count": null,
   "metadata": {},
   "outputs": [],
   "source": []
  },
  {
   "cell_type": "markdown",
   "metadata": {},
   "source": [
    "# Example: neural ODE attacks neural ODE "
   ]
  },
  {
   "cell_type": "code",
   "execution_count": 15,
   "metadata": {},
   "outputs": [],
   "source": [
    "source_name, target_name = 'premetanode10', 'premetanode10' \n",
    "\n",
    "source_input_shift, source_input_scale = get_input_shift_scale(source_name)\n",
    "target_input_shift, target_input_scale = get_input_shift_scale(target_name)\n",
    "\n",
    "source_preprocessing = dict(mean=source_input_shift, std=source_input_scale, axis=-3)\n",
    "target_normalize = transforms.Normalize(mean=target_input_shift, std=target_input_scale)"
   ]
  },
  {
   "cell_type": "code",
   "execution_count": 16,
   "metadata": {},
   "outputs": [],
   "source": [
    "from black_box import get_solvers_solver_options_arr\n",
    "\n",
    "dtype = torch.float32\n",
    "device = 'cuda'\n",
    "\n",
    "source_solvers_config =  Namespace(**{'solvers': \"rk2,u,8,-1,0.5,-1\",\n",
    "                                     'solver_mode': 'standalone',\n",
    "                                     'switch_probs': None,\n",
    "                                     'ensemble_prob': None,\n",
    "                                     'ensemble_weights': None,\n",
    "                                    })\n",
    "source_model_ensemble_config = Namespace(**{'model_ensemble_size': 1,\n",
    "                                            'average_mode': None,})\n",
    "\n",
    "\n",
    "\n",
    "target_solvers_config = Namespace(**{'solvers': \"rk2,u,8,-1,0.5,-1\",\n",
    "                                     'solver_mode': 'standalone',\n",
    "                                     'switch_probs': None,\n",
    "                                     'ensemble_prob': None,\n",
    "                                     'ensemble_weights': None,\n",
    "                                    })\n",
    "target_model_ensemble_config = Namespace(**{'model_ensemble_size': 1,})"
   ]
  },
  {
   "cell_type": "code",
   "execution_count": 17,
   "metadata": {},
   "outputs": [
    {
     "name": "stdout",
     "output_type": "stream",
     "text": [
      "\n"
     ]
    }
   ],
   "source": [
    "from black_box import init_model_metanode\n",
    "\n",
    "checkpoint_name = \"./checkpoints/fgsm_random_8_255_smoothing_00125_seed_102_checkpoint_6125.pth\"\n",
    "checkpoint=torch.load(checkpoint_name)\n",
    "\n",
    "source_model = init_model_metanode(checkpoint).eval()\n",
    "source_model.to(device)\n",
    "\n",
    "\n",
    "checkpoint_name = \"./checkpoints/fgsm_random_8_255_smoothing_00125_seed_102_checkpoint_6125.pth\"\n",
    "checkpoint=torch.load(checkpoint_name)\n",
    "\n",
    "target_model = init_model_metanode(checkpoint).eval()\n",
    "target_model.to(device)\n",
    "print()"
   ]
  },
  {
   "cell_type": "code",
   "execution_count": 18,
   "metadata": {},
   "outputs": [
    {
     "name": "stdout",
     "output_type": "stream",
     "text": [
      "Solvers for source model: [{'solvers': [<sopa.src.solvers.rk_parametric_order2stage2.RKOrder2Stage2 object at 0x1554bb8e2bd0>], 'solver_options': Namespace(ensemble_prob=None, ensemble_weights=None, solver_mode='standalone', switch_probs=None)}] \n",
      "Solvers for target model: [{'solvers': [<sopa.src.solvers.rk_parametric_order2stage2.RKOrder2Stage2 object at 0x1554bb8e2550>], 'solver_options': Namespace(ensemble_prob=None, ensemble_weights=None, solver_mode='standalone', switch_probs=None)}]\n"
     ]
    }
   ],
   "source": [
    "source_solvers_solver_options_arr = get_solvers_solver_options_arr(source_solvers_config,\n",
    "                                                                   source_model_ensemble_config,\n",
    "                                                                   dtype, device)\n",
    "target_solvers_solver_options_arr = get_solvers_solver_options_arr(target_solvers_config,\n",
    "                                                                   target_model_ensemble_config,\n",
    "                                                                   dtype, device)\n",
    "\n",
    "print(f'Solvers for source model: {source_solvers_solver_options_arr} \\n' +\n",
    "      f'Solvers for target model: {target_solvers_solver_options_arr}')"
   ]
  },
  {
   "cell_type": "code",
   "execution_count": 19,
   "metadata": {},
   "outputs": [],
   "source": [
    "# FGSM attack\n",
    "attack = fb.attacks.FGSM(random_start=False)\n",
    "\n",
    "epsilons = [8/255.]\n",
    "\n",
    "source_fmodel = fb.PyTorchModel(source_model, bounds=(0, 1), device=device, preprocessing=source_preprocessing)"
   ]
  },
  {
   "cell_type": "code",
   "execution_count": 20,
   "metadata": {},
   "outputs": [
    {
     "name": "stdout",
     "output_type": "stream",
     "text": [
      "eps: 8, robust_accuracy: 0.41245993971824646\n"
     ]
    }
   ],
   "source": [
    "from black_box import attack_validate\n",
    "\n",
    "robust_accuracies = attack_validate(attack,\n",
    "                                    epsilons,\n",
    "                                    test_loader,\n",
    "                                    source_model_ensemble_config,\n",
    "                                    source_solvers_solver_options_arr,\n",
    "                                    target_solvers_solver_options_arr,\n",
    "                                    source_model=source_model,\n",
    "                                    source_fmodel=source_fmodel,\n",
    "                                    target_model=target_model,\n",
    "                                    data_inv_normalize=data_inv_normalize,\n",
    "                                    target_normalize=target_normalize,\n",
    "                                    )\n",
    "\n",
    "for eps, acc in zip(epsilons, robust_accuracies):\n",
    "    print(f'eps: {int(eps*255)}, robust_accuracy: {acc}')"
   ]
  },
  {
   "cell_type": "code",
   "execution_count": null,
   "metadata": {},
   "outputs": [],
   "source": []
  }
 ],
 "metadata": {
  "kernelspec": {
   "display_name": "Python 3",
   "language": "python",
   "name": "python3"
  },
  "language_info": {
   "codemirror_mode": {
    "name": "ipython",
    "version": 3
   },
   "file_extension": ".py",
   "mimetype": "text/x-python",
   "name": "python",
   "nbconvert_exporter": "python",
   "pygments_lexer": "ipython3",
   "version": "3.7.7"
  }
 },
 "nbformat": 4,
 "nbformat_minor": 4
}
